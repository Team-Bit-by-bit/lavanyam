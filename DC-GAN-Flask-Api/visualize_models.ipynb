{
 "cells": [
  {
   "cell_type": "code",
   "execution_count": null,
   "metadata": {},
   "outputs": [],
   "source": [
    "import os\n",
    "import time\n",
    "import numpy as np\n",
    "import tensorflow as tf\n",
    "\n",
    "import config\n",
    "import tfutil\n",
    "import misc\n",
    "import random\n",
    "import string\n",
    "from PIL import Image\n",
    "import glob\n",
    "\n",
    "from IPython.core.display import display, HTML\n",
    "display(HTML(\"<style>.container { width:100% !important; }</style>\"))\n",
    "\n",
    "from ipywidgets import interact, interactive, fixed, interact_manual\n",
    "import ipywidgets as widgets\n",
    "\n",
    "import matplotlib.pyplot as plt\n",
    "import matplotlib\n",
    "%matplotlib notebook"
   ]
  },
  {
   "cell_type": "code",
   "execution_count": null,
   "metadata": {},
   "outputs": [],
   "source": [
    "tfutil.init_tf(config.tf_config)\n",
    "\n",
    "resume_network_pkl = \"./results/path-to-training/network-snapshot-??????.pkl\"\n",
    "resume_network_pkl = \"./results/023-pgan-mnist-cond-preset-v2-1gpu-fp32-nogrowing-VERBOSE/network-snapshot-000468.pkl\"\n",
    "\n",
    "with tf.device('/gpu:0'):\n",
    "    G, D, Gs = misc.load_pkl(resume_network_pkl)\n",
    "    \n",
    "imsize = Gs.output_shape[-1]"
   ]
  },
  {
   "cell_type": "markdown",
   "metadata": {},
   "source": [
    "# Sample Random Shapes"
   ]
  },
  {
   "cell_type": "code",
   "execution_count": null,
   "metadata": {},
   "outputs": [],
   "source": [
    "mask_list = glob.glob(\"./dataset/masks/*.png\")\n",
    "\n",
    "def get_random_mask(batch_size):\n",
    "    \n",
    "    ix = np.random.randint(len(mask_list), size=(batch_size,))\n",
    "    \n",
    "    random_masks = []\n",
    "    for i in ix:\n",
    "        temp = Image.open(mask_list[i])\n",
    "        temp = temp.resize((imsize, imsize))\n",
    "        temp = (np.float32(temp) - 127.5)/127.5\n",
    "        temp = temp.reshape((1, 1, imsize, imsize))\n",
    "        random_masks.append(temp)\n",
    "    random_masks = np.vstack(random_masks)\n",
    "    \n",
    "    return random_masks\n",
    "\n",
    "def get_random_color(batch_size):\n",
    "    return np.random.rand(batch_size, 3) * 2 - 1\n",
    "\n",
    "def convert_to_image(x):\n",
    "    return x.transpose((0,2,3,1)).clip(-1, 1) * 0.5 + 0.5"
   ]
  },
  {
   "cell_type": "markdown",
   "metadata": {},
   "source": [
    "# Interactive Color/Texture Adjustment"
   ]
  },
  {
   "cell_type": "code",
   "execution_count": null,
   "metadata": {
    "code_folding": [
     43
    ],
    "scrolled": false
   },
   "outputs": [],
   "source": [
    "%matplotlib notebook\n",
    "\n",
    "selected_shape = get_random_mask(1)\n",
    "\n",
    "z1 = misc.random_latents(1, Gs)\n",
    "z2 = misc.random_latents(1, Gs)\n",
    "\n",
    "N = 2\n",
    "fig = plt.figure(figsize=(N*6,6))\n",
    "ax = []\n",
    "art = []\n",
    "for i in range(N):\n",
    "    ax+=[fig.add_subplot(1,N,i+1)]\n",
    "    ax[-1].axis('off')\n",
    "    art += [ax[-1].imshow(np.zeros((1,1)))]\n",
    "\n",
    "def f(r, z):\n",
    "    \n",
    "    r = r[1:]\n",
    "    \n",
    "    selected_color = np.array([[int(r[i:i+2], 16) for i in [0, 2, 4]]])\n",
    "    selected_color = (np.float32(selected_color) - 127.5) / 127.5\n",
    "    \n",
    "    selected_texture = z1 + z * (z2 - z1)\n",
    "    \n",
    "    st = time.time()\n",
    "    GI = Gs.run(selected_texture, selected_color, selected_shape)\n",
    "    et = time.time()\n",
    "    \n",
    "    GI = convert_to_image(GI)\n",
    "\n",
    "    art[0].set_array(GI[0])\n",
    "    ax[0].set_title(f\"Inference Time: {(et-st)*1000:.0f} ms\")\n",
    "    art[0].autoscale()\n",
    "    \n",
    "    art[1].set_array(selected_shape[0,0])\n",
    "    art[1].autoscale()\n",
    "    \n",
    "interactive_plot = interactive(f,\n",
    "                               r=widgets.ColorPicker(concise=False, description='Pick a color', value='#aa00cc', disabled=False),\n",
    "                               z=widgets.FloatSlider(min=0.0,max=1.0,step=0.1,value=0.0),\n",
    "                              )\n",
    "\n",
    "output = interactive_plot.children[-1]\n",
    "output.layout.height = '500px'\n",
    "\n",
    "interactive_plot"
   ]
  },
  {
   "cell_type": "markdown",
   "metadata": {},
   "source": [
    "# Change Color"
   ]
  },
  {
   "cell_type": "code",
   "execution_count": null,
   "metadata": {
    "scrolled": false
   },
   "outputs": [],
   "source": [
    "selected_textures = misc.random_latents(1, Gs).repeat(3, 0)\n",
    "\n",
    "selected_shapes = get_random_mask(1).repeat(3, 0)\n",
    "\n",
    "selected_colors = get_random_color(3)\n",
    "\n",
    "fake_images = Gs.run(selected_textures, selected_colors, selected_shapes)\n",
    "\n",
    "fake_images = convert_to_image(fake_images)\n",
    "\n",
    "plt.figure(figsize=(12,4))\n",
    "for i in range(3):\n",
    "    plt.subplot(1,4,i+1)\n",
    "    plt.imshow(fake_images[i])\n",
    "    plt.axis('off')\n",
    "\n",
    "plt.subplot(1,4,4)\n",
    "plt.imshow(selected_shapes[0, 0], cmap='gray', vmin=0.0, vmax=1.0)\n",
    "plt.axis('off')"
   ]
  },
  {
   "cell_type": "markdown",
   "metadata": {},
   "source": [
    "# Change Texture"
   ]
  },
  {
   "cell_type": "code",
   "execution_count": null,
   "metadata": {},
   "outputs": [],
   "source": [
    "selected_textures = misc.random_latents(3, Gs)\n",
    "\n",
    "selected_colors = get_random_color(1).repeat(3, 0)\n",
    "\n",
    "selected_shapes = get_random_mask(1).repeat(3, 0)\n",
    "\n",
    "fake_images = Gs.run(selected_textures, selected_colors, selected_shapes)\n",
    "\n",
    "fake_images = convert_to_image(fake_images)\n",
    "\n",
    "plt.figure(figsize=(12,4))\n",
    "for i in range(3):\n",
    "    plt.subplot(1,4,i+1)\n",
    "    plt.imshow(fake_images[i])\n",
    "    plt.axis('off')\n",
    "plt.subplot(1,4,4)\n",
    "plt.imshow(selected_shapes[i,0])\n",
    "plt.axis('off')"
   ]
  },
  {
   "cell_type": "markdown",
   "metadata": {},
   "source": [
    "# Change Shape"
   ]
  },
  {
   "cell_type": "code",
   "execution_count": null,
   "metadata": {},
   "outputs": [],
   "source": [
    "selected_textures = misc.random_latents(1, Gs).repeat(3, 0)\n",
    "\n",
    "selected_colors = get_random_color(1).repeat(3, 0)\n",
    "\n",
    "selected_shapes = get_random_mask(3)\n",
    "\n",
    "fake_images = Gs.run(selected_textures, selected_colors, selected_shapes)\n",
    "\n",
    "fake_images = convert_to_image(fake_images)\n",
    "\n",
    "plt.figure(figsize=(12,4))\n",
    "for i in range(3):\n",
    "    plt.subplot(2,3,i+1)\n",
    "    plt.imshow(fake_images[i])\n",
    "    plt.axis('off')\n",
    "    plt.subplot(2,3,i+4)\n",
    "    plt.imshow(selected_shapes[i, 0], cmap='gray', vmin=0.0, vmax=1.0)\n",
    "    plt.axis('off')"
   ]
  },
  {
   "cell_type": "code",
   "execution_count": null,
   "metadata": {},
   "outputs": [],
   "source": []
  }
 ],
 "metadata": {
  "kernelspec": {
   "display_name": "Python 3",
   "language": "python",
   "name": "python3"
  },
  "language_info": {
   "codemirror_mode": {
    "name": "ipython",
    "version": 3
   },
   "file_extension": ".py",
   "mimetype": "text/x-python",
   "name": "python",
   "nbconvert_exporter": "python",
   "pygments_lexer": "ipython3",
   "version": "3.6.6"
  }
 },
 "nbformat": 4,
 "nbformat_minor": 2
}
